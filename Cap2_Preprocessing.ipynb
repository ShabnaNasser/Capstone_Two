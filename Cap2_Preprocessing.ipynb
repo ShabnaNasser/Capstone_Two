{
 "cells": [
  {
   "cell_type": "code",
   "execution_count": 1,
   "id": "f1f913b4-535b-424c-ba66-273b151bf26f",
   "metadata": {},
   "outputs": [],
   "source": [
    "#%run /Users/shabnanasser/workplace/git/Capstone_Two/Cap2_Datawrangling_EDA.ipynb"
   ]
  },
  {
   "cell_type": "markdown",
   "id": "66176f4e-4a5c-40c5-8cea-ff694268a311",
   "metadata": {},
   "source": [
    "# Preprocessing"
   ]
  },
  {
   "cell_type": "code",
   "execution_count": 2,
   "id": "176693da-db18-419d-b1d7-ca9f37293362",
   "metadata": {},
   "outputs": [
    {
     "data": {
      "text/html": [
       "<div>\n",
       "<style scoped>\n",
       "    .dataframe tbody tr th:only-of-type {\n",
       "        vertical-align: middle;\n",
       "    }\n",
       "\n",
       "    .dataframe tbody tr th {\n",
       "        vertical-align: top;\n",
       "    }\n",
       "\n",
       "    .dataframe thead th {\n",
       "        text-align: right;\n",
       "    }\n",
       "</style>\n",
       "<table border=\"1\" class=\"dataframe\">\n",
       "  <thead>\n",
       "    <tr style=\"text-align: right;\">\n",
       "      <th></th>\n",
       "      <th>0</th>\n",
       "    </tr>\n",
       "  </thead>\n",
       "  <tbody>\n",
       "    <tr>\n",
       "      <th>Provider</th>\n",
       "      <td>0</td>\n",
       "    </tr>\n",
       "    <tr>\n",
       "      <th>InscClaimAmtReimbursed</th>\n",
       "      <td>0</td>\n",
       "    </tr>\n",
       "    <tr>\n",
       "      <th>DeductibleAmtPaid</th>\n",
       "      <td>0</td>\n",
       "    </tr>\n",
       "    <tr>\n",
       "      <th>Claim_Duration</th>\n",
       "      <td>0</td>\n",
       "    </tr>\n",
       "    <tr>\n",
       "      <th>Admitted_Days</th>\n",
       "      <td>517737</td>\n",
       "    </tr>\n",
       "    <tr>\n",
       "      <th>...</th>\n",
       "      <td>...</td>\n",
       "    </tr>\n",
       "    <tr>\n",
       "      <th>ClmCount_Provider_BeneID_ClmDiagnosisCode_8_ClmProcedureCode_2</th>\n",
       "      <td>553860</td>\n",
       "    </tr>\n",
       "    <tr>\n",
       "      <th>ClmCount_Provider_BeneID_ClmDiagnosisCode_9_ClmProcedureCode_1</th>\n",
       "      <td>542161</td>\n",
       "    </tr>\n",
       "    <tr>\n",
       "      <th>ClmCount_Provider_BeneID_ClmDiagnosisCode_9_ClmProcedureCode_2</th>\n",
       "      <td>554266</td>\n",
       "    </tr>\n",
       "    <tr>\n",
       "      <th>ClmCount_Provider_BeneID_ClmDiagnosisCode_10_ClmProcedureCode_1</th>\n",
       "      <td>555507</td>\n",
       "    </tr>\n",
       "    <tr>\n",
       "      <th>ClmCount_Provider_BeneID_ClmDiagnosisCode_10_ClmProcedureCode_2</th>\n",
       "      <td>557513</td>\n",
       "    </tr>\n",
       "  </tbody>\n",
       "</table>\n",
       "<p>325 rows × 1 columns</p>\n",
       "</div>"
      ],
      "text/plain": [
       "                                                         0\n",
       "Provider                                                 0\n",
       "InscClaimAmtReimbursed                                   0\n",
       "DeductibleAmtPaid                                        0\n",
       "Claim_Duration                                           0\n",
       "Admitted_Days                                       517737\n",
       "...                                                    ...\n",
       "ClmCount_Provider_BeneID_ClmDiagnosisCode_8_Clm...  553860\n",
       "ClmCount_Provider_BeneID_ClmDiagnosisCode_9_Clm...  542161\n",
       "ClmCount_Provider_BeneID_ClmDiagnosisCode_9_Clm...  554266\n",
       "ClmCount_Provider_BeneID_ClmDiagnosisCode_10_Cl...  555507\n",
       "ClmCount_Provider_BeneID_ClmDiagnosisCode_10_Cl...  557513\n",
       "\n",
       "[325 rows x 1 columns]"
      ]
     },
     "execution_count": 2,
     "metadata": {},
     "output_type": "execute_result"
    }
   ],
   "source": [
    "# Checking Nulls in the features\n",
    "pd.DataFrame(train_iobt_data.isna().sum())"
   ]
  },
  {
   "cell_type": "code",
   "execution_count": 3,
   "id": "ff0f5b0f-19db-4ba2-b286-75eabf1cbe01",
   "metadata": {},
   "outputs": [],
   "source": [
    "# Filling Nulls in the aggregated features\n",
    "train_iobt_data.fillna(value=0, inplace=True)"
   ]
  },
  {
   "cell_type": "code",
   "execution_count": 4,
   "id": "c55220f9-1054-48e4-81f5-c6f15a825592",
   "metadata": {},
   "outputs": [
    {
     "data": {
      "text/html": [
       "<div>\n",
       "<style scoped>\n",
       "    .dataframe tbody tr th:only-of-type {\n",
       "        vertical-align: middle;\n",
       "    }\n",
       "\n",
       "    .dataframe tbody tr th {\n",
       "        vertical-align: top;\n",
       "    }\n",
       "\n",
       "    .dataframe thead th {\n",
       "        text-align: right;\n",
       "    }\n",
       "</style>\n",
       "<table border=\"1\" class=\"dataframe\">\n",
       "  <thead>\n",
       "    <tr style=\"text-align: right;\">\n",
       "      <th></th>\n",
       "      <th>0</th>\n",
       "    </tr>\n",
       "  </thead>\n",
       "  <tbody>\n",
       "    <tr>\n",
       "      <th>Provider</th>\n",
       "      <td>0</td>\n",
       "    </tr>\n",
       "    <tr>\n",
       "      <th>InscClaimAmtReimbursed</th>\n",
       "      <td>0</td>\n",
       "    </tr>\n",
       "    <tr>\n",
       "      <th>DeductibleAmtPaid</th>\n",
       "      <td>0</td>\n",
       "    </tr>\n",
       "    <tr>\n",
       "      <th>Claim_Duration</th>\n",
       "      <td>0</td>\n",
       "    </tr>\n",
       "    <tr>\n",
       "      <th>Admitted_Days</th>\n",
       "      <td>0</td>\n",
       "    </tr>\n",
       "    <tr>\n",
       "      <th>...</th>\n",
       "      <td>...</td>\n",
       "    </tr>\n",
       "    <tr>\n",
       "      <th>ClmCount_Provider_BeneID_ClmDiagnosisCode_8_ClmProcedureCode_2</th>\n",
       "      <td>0</td>\n",
       "    </tr>\n",
       "    <tr>\n",
       "      <th>ClmCount_Provider_BeneID_ClmDiagnosisCode_9_ClmProcedureCode_1</th>\n",
       "      <td>0</td>\n",
       "    </tr>\n",
       "    <tr>\n",
       "      <th>ClmCount_Provider_BeneID_ClmDiagnosisCode_9_ClmProcedureCode_2</th>\n",
       "      <td>0</td>\n",
       "    </tr>\n",
       "    <tr>\n",
       "      <th>ClmCount_Provider_BeneID_ClmDiagnosisCode_10_ClmProcedureCode_1</th>\n",
       "      <td>0</td>\n",
       "    </tr>\n",
       "    <tr>\n",
       "      <th>ClmCount_Provider_BeneID_ClmDiagnosisCode_10_ClmProcedureCode_2</th>\n",
       "      <td>0</td>\n",
       "    </tr>\n",
       "  </tbody>\n",
       "</table>\n",
       "<p>325 rows × 1 columns</p>\n",
       "</div>"
      ],
      "text/plain": [
       "                                                    0\n",
       "Provider                                            0\n",
       "InscClaimAmtReimbursed                              0\n",
       "DeductibleAmtPaid                                   0\n",
       "Claim_Duration                                      0\n",
       "Admitted_Days                                       0\n",
       "...                                                ..\n",
       "ClmCount_Provider_BeneID_ClmDiagnosisCode_8_Clm...  0\n",
       "ClmCount_Provider_BeneID_ClmDiagnosisCode_9_Clm...  0\n",
       "ClmCount_Provider_BeneID_ClmDiagnosisCode_9_Clm...  0\n",
       "ClmCount_Provider_BeneID_ClmDiagnosisCode_10_Cl...  0\n",
       "ClmCount_Provider_BeneID_ClmDiagnosisCode_10_Cl...  0\n",
       "\n",
       "[325 rows x 1 columns]"
      ]
     },
     "execution_count": 4,
     "metadata": {},
     "output_type": "execute_result"
    }
   ],
   "source": [
    "# Checking Nulls in the features\n",
    "pd.DataFrame(train_iobt_data.isna().sum())"
   ]
  },
  {
   "cell_type": "code",
   "execution_count": 5,
   "id": "c31fdb6f-c001-4dbe-809f-10364fc703b1",
   "metadata": {},
   "outputs": [
    {
     "data": {
      "text/plain": [
       "Provider                                                            object\n",
       "InscClaimAmtReimbursed                                               int64\n",
       "DeductibleAmtPaid                                                  float64\n",
       "Claim_Duration                                                       int64\n",
       "Admitted_Days                                                      float64\n",
       "                                                                    ...   \n",
       "ClmCount_Provider_BeneID_ClmDiagnosisCode_8_ClmProcedureCode_2     float64\n",
       "ClmCount_Provider_BeneID_ClmDiagnosisCode_9_ClmProcedureCode_1     float64\n",
       "ClmCount_Provider_BeneID_ClmDiagnosisCode_9_ClmProcedureCode_2     float64\n",
       "ClmCount_Provider_BeneID_ClmDiagnosisCode_10_ClmProcedureCode_1    float64\n",
       "ClmCount_Provider_BeneID_ClmDiagnosisCode_10_ClmProcedureCode_2    float64\n",
       "Length: 325, dtype: object"
      ]
     },
     "execution_count": 5,
     "metadata": {},
     "output_type": "execute_result"
    }
   ],
   "source": [
    "train_iobt_data.dtypes"
   ]
  },
  {
   "cell_type": "code",
   "execution_count": 6,
   "id": "31865d3c-f955-47aa-8dec-ed9f930d1abb",
   "metadata": {},
   "outputs": [
    {
     "data": {
      "text/html": [
       "<div>\n",
       "<style scoped>\n",
       "    .dataframe tbody tr th:only-of-type {\n",
       "        vertical-align: middle;\n",
       "    }\n",
       "\n",
       "    .dataframe tbody tr th {\n",
       "        vertical-align: top;\n",
       "    }\n",
       "\n",
       "    .dataframe thead th {\n",
       "        text-align: right;\n",
       "    }\n",
       "</style>\n",
       "<table border=\"1\" class=\"dataframe\">\n",
       "  <thead>\n",
       "    <tr style=\"text-align: right;\">\n",
       "      <th></th>\n",
       "      <th>Provider</th>\n",
       "      <th>InscClaimAmtReimbursed</th>\n",
       "      <th>DeductibleAmtPaid</th>\n",
       "      <th>Claim_Duration</th>\n",
       "      <th>Admitted_Days</th>\n",
       "      <th>Gender</th>\n",
       "      <th>Race</th>\n",
       "      <th>ChronicCond_Alzheimer</th>\n",
       "      <th>ChronicCond_Heartfailure</th>\n",
       "      <th>ChronicCond_KidneyDisease</th>\n",
       "      <th>...</th>\n",
       "      <th>ClmCount_Provider_BeneID_ClmDiagnosisCode_6_ClmProcedureCode_1</th>\n",
       "      <th>ClmCount_Provider_BeneID_ClmDiagnosisCode_6_ClmProcedureCode_2</th>\n",
       "      <th>ClmCount_Provider_BeneID_ClmDiagnosisCode_7_ClmProcedureCode_1</th>\n",
       "      <th>ClmCount_Provider_BeneID_ClmDiagnosisCode_7_ClmProcedureCode_2</th>\n",
       "      <th>ClmCount_Provider_BeneID_ClmDiagnosisCode_8_ClmProcedureCode_1</th>\n",
       "      <th>ClmCount_Provider_BeneID_ClmDiagnosisCode_8_ClmProcedureCode_2</th>\n",
       "      <th>ClmCount_Provider_BeneID_ClmDiagnosisCode_9_ClmProcedureCode_1</th>\n",
       "      <th>ClmCount_Provider_BeneID_ClmDiagnosisCode_9_ClmProcedureCode_2</th>\n",
       "      <th>ClmCount_Provider_BeneID_ClmDiagnosisCode_10_ClmProcedureCode_1</th>\n",
       "      <th>ClmCount_Provider_BeneID_ClmDiagnosisCode_10_ClmProcedureCode_2</th>\n",
       "    </tr>\n",
       "  </thead>\n",
       "  <tbody>\n",
       "    <tr>\n",
       "      <th>0</th>\n",
       "      <td>PRV55912</td>\n",
       "      <td>26000</td>\n",
       "      <td>1068.0</td>\n",
       "      <td>6</td>\n",
       "      <td>6.0</td>\n",
       "      <td>1</td>\n",
       "      <td>1</td>\n",
       "      <td>1</td>\n",
       "      <td>2</td>\n",
       "      <td>1</td>\n",
       "      <td>...</td>\n",
       "      <td>0.0</td>\n",
       "      <td>0.0</td>\n",
       "      <td>0.0</td>\n",
       "      <td>0.0</td>\n",
       "      <td>0.0</td>\n",
       "      <td>0.0</td>\n",
       "      <td>0.0</td>\n",
       "      <td>0.0</td>\n",
       "      <td>0.0</td>\n",
       "      <td>0.0</td>\n",
       "    </tr>\n",
       "    <tr>\n",
       "      <th>1</th>\n",
       "      <td>PRV55912</td>\n",
       "      <td>50</td>\n",
       "      <td>0.0</td>\n",
       "      <td>0</td>\n",
       "      <td>0.0</td>\n",
       "      <td>1</td>\n",
       "      <td>1</td>\n",
       "      <td>1</td>\n",
       "      <td>1</td>\n",
       "      <td>1</td>\n",
       "      <td>...</td>\n",
       "      <td>0.0</td>\n",
       "      <td>0.0</td>\n",
       "      <td>0.0</td>\n",
       "      <td>0.0</td>\n",
       "      <td>0.0</td>\n",
       "      <td>0.0</td>\n",
       "      <td>0.0</td>\n",
       "      <td>0.0</td>\n",
       "      <td>0.0</td>\n",
       "      <td>0.0</td>\n",
       "    </tr>\n",
       "    <tr>\n",
       "      <th>2</th>\n",
       "      <td>PRV55912</td>\n",
       "      <td>19000</td>\n",
       "      <td>1068.0</td>\n",
       "      <td>12</td>\n",
       "      <td>12.0</td>\n",
       "      <td>2</td>\n",
       "      <td>1</td>\n",
       "      <td>1</td>\n",
       "      <td>1</td>\n",
       "      <td>1</td>\n",
       "      <td>...</td>\n",
       "      <td>1.0</td>\n",
       "      <td>1.0</td>\n",
       "      <td>1.0</td>\n",
       "      <td>1.0</td>\n",
       "      <td>1.0</td>\n",
       "      <td>1.0</td>\n",
       "      <td>1.0</td>\n",
       "      <td>1.0</td>\n",
       "      <td>0.0</td>\n",
       "      <td>0.0</td>\n",
       "    </tr>\n",
       "    <tr>\n",
       "      <th>3</th>\n",
       "      <td>PRV55912</td>\n",
       "      <td>17000</td>\n",
       "      <td>1068.0</td>\n",
       "      <td>18</td>\n",
       "      <td>18.0</td>\n",
       "      <td>1</td>\n",
       "      <td>1</td>\n",
       "      <td>2</td>\n",
       "      <td>2</td>\n",
       "      <td>2</td>\n",
       "      <td>...</td>\n",
       "      <td>1.0</td>\n",
       "      <td>0.0</td>\n",
       "      <td>1.0</td>\n",
       "      <td>0.0</td>\n",
       "      <td>1.0</td>\n",
       "      <td>0.0</td>\n",
       "      <td>1.0</td>\n",
       "      <td>0.0</td>\n",
       "      <td>0.0</td>\n",
       "      <td>0.0</td>\n",
       "    </tr>\n",
       "    <tr>\n",
       "      <th>4</th>\n",
       "      <td>PRV55912</td>\n",
       "      <td>13000</td>\n",
       "      <td>1068.0</td>\n",
       "      <td>4</td>\n",
       "      <td>4.0</td>\n",
       "      <td>2</td>\n",
       "      <td>1</td>\n",
       "      <td>2</td>\n",
       "      <td>1</td>\n",
       "      <td>2</td>\n",
       "      <td>...</td>\n",
       "      <td>1.0</td>\n",
       "      <td>0.0</td>\n",
       "      <td>1.0</td>\n",
       "      <td>0.0</td>\n",
       "      <td>0.0</td>\n",
       "      <td>0.0</td>\n",
       "      <td>0.0</td>\n",
       "      <td>0.0</td>\n",
       "      <td>0.0</td>\n",
       "      <td>0.0</td>\n",
       "    </tr>\n",
       "  </tbody>\n",
       "</table>\n",
       "<p>5 rows × 325 columns</p>\n",
       "</div>"
      ],
      "text/plain": [
       "   Provider  InscClaimAmtReimbursed  DeductibleAmtPaid  Claim_Duration  \\\n",
       "0  PRV55912                   26000             1068.0               6   \n",
       "1  PRV55912                      50                0.0               0   \n",
       "2  PRV55912                   19000             1068.0              12   \n",
       "3  PRV55912                   17000             1068.0              18   \n",
       "4  PRV55912                   13000             1068.0               4   \n",
       "\n",
       "   Admitted_Days  Gender  Race  ChronicCond_Alzheimer  \\\n",
       "0            6.0       1     1                      1   \n",
       "1            0.0       1     1                      1   \n",
       "2           12.0       2     1                      1   \n",
       "3           18.0       1     1                      2   \n",
       "4            4.0       2     1                      2   \n",
       "\n",
       "   ChronicCond_Heartfailure  ChronicCond_KidneyDisease  ...  \\\n",
       "0                         2                          1  ...   \n",
       "1                         1                          1  ...   \n",
       "2                         1                          1  ...   \n",
       "3                         2                          2  ...   \n",
       "4                         1                          2  ...   \n",
       "\n",
       "   ClmCount_Provider_BeneID_ClmDiagnosisCode_6_ClmProcedureCode_1  \\\n",
       "0                                                0.0                \n",
       "1                                                0.0                \n",
       "2                                                1.0                \n",
       "3                                                1.0                \n",
       "4                                                1.0                \n",
       "\n",
       "   ClmCount_Provider_BeneID_ClmDiagnosisCode_6_ClmProcedureCode_2  \\\n",
       "0                                                0.0                \n",
       "1                                                0.0                \n",
       "2                                                1.0                \n",
       "3                                                0.0                \n",
       "4                                                0.0                \n",
       "\n",
       "   ClmCount_Provider_BeneID_ClmDiagnosisCode_7_ClmProcedureCode_1  \\\n",
       "0                                                0.0                \n",
       "1                                                0.0                \n",
       "2                                                1.0                \n",
       "3                                                1.0                \n",
       "4                                                1.0                \n",
       "\n",
       "   ClmCount_Provider_BeneID_ClmDiagnosisCode_7_ClmProcedureCode_2  \\\n",
       "0                                                0.0                \n",
       "1                                                0.0                \n",
       "2                                                1.0                \n",
       "3                                                0.0                \n",
       "4                                                0.0                \n",
       "\n",
       "   ClmCount_Provider_BeneID_ClmDiagnosisCode_8_ClmProcedureCode_1  \\\n",
       "0                                                0.0                \n",
       "1                                                0.0                \n",
       "2                                                1.0                \n",
       "3                                                1.0                \n",
       "4                                                0.0                \n",
       "\n",
       "   ClmCount_Provider_BeneID_ClmDiagnosisCode_8_ClmProcedureCode_2  \\\n",
       "0                                                0.0                \n",
       "1                                                0.0                \n",
       "2                                                1.0                \n",
       "3                                                0.0                \n",
       "4                                                0.0                \n",
       "\n",
       "   ClmCount_Provider_BeneID_ClmDiagnosisCode_9_ClmProcedureCode_1  \\\n",
       "0                                                0.0                \n",
       "1                                                0.0                \n",
       "2                                                1.0                \n",
       "3                                                1.0                \n",
       "4                                                0.0                \n",
       "\n",
       "   ClmCount_Provider_BeneID_ClmDiagnosisCode_9_ClmProcedureCode_2  \\\n",
       "0                                                0.0                \n",
       "1                                                0.0                \n",
       "2                                                1.0                \n",
       "3                                                0.0                \n",
       "4                                                0.0                \n",
       "\n",
       "   ClmCount_Provider_BeneID_ClmDiagnosisCode_10_ClmProcedureCode_1  \\\n",
       "0                                                0.0                 \n",
       "1                                                0.0                 \n",
       "2                                                0.0                 \n",
       "3                                                0.0                 \n",
       "4                                                0.0                 \n",
       "\n",
       "   ClmCount_Provider_BeneID_ClmDiagnosisCode_10_ClmProcedureCode_2  \n",
       "0                                                0.0                \n",
       "1                                                0.0                \n",
       "2                                                0.0                \n",
       "3                                                0.0                \n",
       "4                                                0.0                \n",
       "\n",
       "[5 rows x 325 columns]"
      ]
     },
     "execution_count": 6,
     "metadata": {},
     "output_type": "execute_result"
    }
   ],
   "source": [
    "train_iobt_data.head()"
   ]
  },
  {
   "cell_type": "markdown",
   "id": "bfc20fc2-1b00-4064-9ed3-ef97010c328f",
   "metadata": {},
   "source": [
    "### Entire Data Aggregation : At provider level\n",
    "\n",
    "The main objective is to predict the healthcare Provider Fraud. Thus, here we are grouping the entire dataset at the level of PROVIDER and taking SUM of all the columns."
   ]
  },
  {
   "cell_type": "code",
   "execution_count": 7,
   "id": "9c3eb118-fce3-43b0-b83a-24ae01d67036",
   "metadata": {},
   "outputs": [
    {
     "name": "stderr",
     "output_type": "stream",
     "text": [
      "/var/folders/dr/bq_yqfv17s7ds_x4dngdrn4r0000gn/T/ipykernel_95741/2124712003.py:3: PerformanceWarning: DataFrame is highly fragmented.  This is usually the result of calling `frame.insert` many times, which has poor performance.  Consider joining all columns at once using pd.concat(axis=1) instead. To get a de-fragmented frame, use `newframe = frame.copy()`\n",
      "  train_iobt_data = train_iobt_data.groupby(['Provider','PotentialFraud'],as_index=False).agg('sum')\n",
      "/var/folders/dr/bq_yqfv17s7ds_x4dngdrn4r0000gn/T/ipykernel_95741/2124712003.py:3: PerformanceWarning: DataFrame is highly fragmented.  This is usually the result of calling `frame.insert` many times, which has poor performance.  Consider joining all columns at once using pd.concat(axis=1) instead. To get a de-fragmented frame, use `newframe = frame.copy()`\n",
      "  train_iobt_data = train_iobt_data.groupby(['Provider','PotentialFraud'],as_index=False).agg('sum')\n"
     ]
    }
   ],
   "source": [
    "#Grouping the DataFrame by the columns 'Provider' and 'PotentialFraud' and Aggregating the grouped data using the 'sum' function\n",
    "\n",
    "train_iobt_data = train_iobt_data.groupby(['Provider','PotentialFraud'],as_index=False).agg('sum')"
   ]
  },
  {
   "cell_type": "code",
   "execution_count": 8,
   "id": "37c4e5e6-b39c-409b-ba59-389c6d672e01",
   "metadata": {},
   "outputs": [
    {
     "data": {
      "text/plain": [
       "(5410, 325)"
      ]
     },
     "execution_count": 8,
     "metadata": {},
     "output_type": "execute_result"
    }
   ],
   "source": [
    "train_iobt_data.shape"
   ]
  },
  {
   "cell_type": "markdown",
   "id": "8f0f5be2-18a2-4fd0-91eb-27a9af25a4bf",
   "metadata": {},
   "source": [
    "Creating separate sets of independent features and target column.\n",
    "* These sets will be used for training the ML Models."
   ]
  },
  {
   "cell_type": "code",
   "execution_count": 9,
   "id": "b7988473-751c-45a0-95e0-b32300e01805",
   "metadata": {},
   "outputs": [],
   "source": [
    "# X: Features\n",
    "# Using the drop method to remove specified columns ('Provider' and 'PotentialFraud') along the specified axis (columns)\n",
    "# Resulting DataFrame contains only the features (independent variables)\n",
    "X = train_iobt_data.drop(axis=1, columns=['Provider','PotentialFraud'])\n",
    "#y: Target variable\n",
    "# Extracting the 'PotentialFraud' column as the target variable\n",
    "# Resulting Series contains the target variable (dependent variable)\n",
    "y = train_iobt_data['PotentialFraud']"
   ]
  },
  {
   "cell_type": "code",
   "execution_count": 10,
   "id": "8d8791c2-f0f3-4ac8-9402-972f7845106e",
   "metadata": {},
   "outputs": [
    {
     "data": {
      "text/plain": [
       "((5410, 323), pandas.core.frame.DataFrame, (5410,), pandas.core.series.Series)"
      ]
     },
     "execution_count": 10,
     "metadata": {},
     "output_type": "execute_result"
    }
   ],
   "source": [
    "X.shape, type(X), y.shape, type(y)"
   ]
  },
  {
   "cell_type": "code",
   "execution_count": 11,
   "id": "ea4783a6-0ef1-4018-8074-63d22ce592f5",
   "metadata": {},
   "outputs": [
    {
     "data": {
      "text/html": [
       "<div>\n",
       "<style scoped>\n",
       "    .dataframe tbody tr th:only-of-type {\n",
       "        vertical-align: middle;\n",
       "    }\n",
       "\n",
       "    .dataframe tbody tr th {\n",
       "        vertical-align: top;\n",
       "    }\n",
       "\n",
       "    .dataframe thead th {\n",
       "        text-align: right;\n",
       "    }\n",
       "</style>\n",
       "<table border=\"1\" class=\"dataframe\">\n",
       "  <thead>\n",
       "    <tr style=\"text-align: right;\">\n",
       "      <th></th>\n",
       "      <th>InscClaimAmtReimbursed</th>\n",
       "      <th>DeductibleAmtPaid</th>\n",
       "      <th>Claim_Duration</th>\n",
       "      <th>Admitted_Days</th>\n",
       "      <th>Gender</th>\n",
       "      <th>Race</th>\n",
       "      <th>ChronicCond_Alzheimer</th>\n",
       "      <th>ChronicCond_Heartfailure</th>\n",
       "      <th>ChronicCond_KidneyDisease</th>\n",
       "      <th>ChronicCond_Cancer</th>\n",
       "      <th>...</th>\n",
       "      <th>ClmCount_Provider_BeneID_ClmDiagnosisCode_6_ClmProcedureCode_1</th>\n",
       "      <th>ClmCount_Provider_BeneID_ClmDiagnosisCode_6_ClmProcedureCode_2</th>\n",
       "      <th>ClmCount_Provider_BeneID_ClmDiagnosisCode_7_ClmProcedureCode_1</th>\n",
       "      <th>ClmCount_Provider_BeneID_ClmDiagnosisCode_7_ClmProcedureCode_2</th>\n",
       "      <th>ClmCount_Provider_BeneID_ClmDiagnosisCode_8_ClmProcedureCode_1</th>\n",
       "      <th>ClmCount_Provider_BeneID_ClmDiagnosisCode_8_ClmProcedureCode_2</th>\n",
       "      <th>ClmCount_Provider_BeneID_ClmDiagnosisCode_9_ClmProcedureCode_1</th>\n",
       "      <th>ClmCount_Provider_BeneID_ClmDiagnosisCode_9_ClmProcedureCode_2</th>\n",
       "      <th>ClmCount_Provider_BeneID_ClmDiagnosisCode_10_ClmProcedureCode_1</th>\n",
       "      <th>ClmCount_Provider_BeneID_ClmDiagnosisCode_10_ClmProcedureCode_2</th>\n",
       "    </tr>\n",
       "  </thead>\n",
       "  <tbody>\n",
       "    <tr>\n",
       "      <th>0</th>\n",
       "      <td>104640</td>\n",
       "      <td>5340.0</td>\n",
       "      <td>36</td>\n",
       "      <td>25.0</td>\n",
       "      <td>41</td>\n",
       "      <td>29</td>\n",
       "      <td>35</td>\n",
       "      <td>31</td>\n",
       "      <td>33</td>\n",
       "      <td>45</td>\n",
       "      <td>...</td>\n",
       "      <td>2.0</td>\n",
       "      <td>1.0</td>\n",
       "      <td>1.0</td>\n",
       "      <td>1.0</td>\n",
       "      <td>1.0</td>\n",
       "      <td>1.0</td>\n",
       "      <td>1.0</td>\n",
       "      <td>1.0</td>\n",
       "      <td>0.0</td>\n",
       "      <td>0.0</td>\n",
       "    </tr>\n",
       "    <tr>\n",
       "      <th>1</th>\n",
       "      <td>605670</td>\n",
       "      <td>66286.0</td>\n",
       "      <td>485</td>\n",
       "      <td>320.0</td>\n",
       "      <td>210</td>\n",
       "      <td>160</td>\n",
       "      <td>208</td>\n",
       "      <td>184</td>\n",
       "      <td>200</td>\n",
       "      <td>254</td>\n",
       "      <td>...</td>\n",
       "      <td>34.0</td>\n",
       "      <td>7.0</td>\n",
       "      <td>32.0</td>\n",
       "      <td>7.0</td>\n",
       "      <td>31.0</td>\n",
       "      <td>7.0</td>\n",
       "      <td>28.0</td>\n",
       "      <td>7.0</td>\n",
       "      <td>3.0</td>\n",
       "      <td>1.0</td>\n",
       "    </tr>\n",
       "    <tr>\n",
       "      <th>2</th>\n",
       "      <td>52170</td>\n",
       "      <td>310.0</td>\n",
       "      <td>213</td>\n",
       "      <td>0.0</td>\n",
       "      <td>252</td>\n",
       "      <td>183</td>\n",
       "      <td>234</td>\n",
       "      <td>210</td>\n",
       "      <td>248</td>\n",
       "      <td>282</td>\n",
       "      <td>...</td>\n",
       "      <td>0.0</td>\n",
       "      <td>0.0</td>\n",
       "      <td>0.0</td>\n",
       "      <td>0.0</td>\n",
       "      <td>0.0</td>\n",
       "      <td>0.0</td>\n",
       "      <td>0.0</td>\n",
       "      <td>0.0</td>\n",
       "      <td>0.0</td>\n",
       "      <td>0.0</td>\n",
       "    </tr>\n",
       "    <tr>\n",
       "      <th>3</th>\n",
       "      <td>280910</td>\n",
       "      <td>3700.0</td>\n",
       "      <td>1268</td>\n",
       "      <td>0.0</td>\n",
       "      <td>1819</td>\n",
       "      <td>1447</td>\n",
       "      <td>1904</td>\n",
       "      <td>1650</td>\n",
       "      <td>1823</td>\n",
       "      <td>2165</td>\n",
       "      <td>...</td>\n",
       "      <td>0.0</td>\n",
       "      <td>0.0</td>\n",
       "      <td>0.0</td>\n",
       "      <td>0.0</td>\n",
       "      <td>0.0</td>\n",
       "      <td>0.0</td>\n",
       "      <td>0.0</td>\n",
       "      <td>0.0</td>\n",
       "      <td>0.0</td>\n",
       "      <td>0.0</td>\n",
       "    </tr>\n",
       "    <tr>\n",
       "      <th>4</th>\n",
       "      <td>33710</td>\n",
       "      <td>3264.0</td>\n",
       "      <td>69</td>\n",
       "      <td>16.0</td>\n",
       "      <td>110</td>\n",
       "      <td>86</td>\n",
       "      <td>118</td>\n",
       "      <td>104</td>\n",
       "      <td>122</td>\n",
       "      <td>132</td>\n",
       "      <td>...</td>\n",
       "      <td>1.0</td>\n",
       "      <td>0.0</td>\n",
       "      <td>1.0</td>\n",
       "      <td>0.0</td>\n",
       "      <td>0.0</td>\n",
       "      <td>0.0</td>\n",
       "      <td>0.0</td>\n",
       "      <td>0.0</td>\n",
       "      <td>0.0</td>\n",
       "      <td>0.0</td>\n",
       "    </tr>\n",
       "  </tbody>\n",
       "</table>\n",
       "<p>5 rows × 323 columns</p>\n",
       "</div>"
      ],
      "text/plain": [
       "   InscClaimAmtReimbursed  DeductibleAmtPaid  Claim_Duration  Admitted_Days  \\\n",
       "0                  104640             5340.0              36           25.0   \n",
       "1                  605670            66286.0             485          320.0   \n",
       "2                   52170              310.0             213            0.0   \n",
       "3                  280910             3700.0            1268            0.0   \n",
       "4                   33710             3264.0              69           16.0   \n",
       "\n",
       "   Gender  Race  ChronicCond_Alzheimer  ChronicCond_Heartfailure  \\\n",
       "0      41    29                     35                        31   \n",
       "1     210   160                    208                       184   \n",
       "2     252   183                    234                       210   \n",
       "3    1819  1447                   1904                      1650   \n",
       "4     110    86                    118                       104   \n",
       "\n",
       "   ChronicCond_KidneyDisease  ChronicCond_Cancer  ...  \\\n",
       "0                         33                  45  ...   \n",
       "1                        200                 254  ...   \n",
       "2                        248                 282  ...   \n",
       "3                       1823                2165  ...   \n",
       "4                        122                 132  ...   \n",
       "\n",
       "   ClmCount_Provider_BeneID_ClmDiagnosisCode_6_ClmProcedureCode_1  \\\n",
       "0                                                2.0                \n",
       "1                                               34.0                \n",
       "2                                                0.0                \n",
       "3                                                0.0                \n",
       "4                                                1.0                \n",
       "\n",
       "   ClmCount_Provider_BeneID_ClmDiagnosisCode_6_ClmProcedureCode_2  \\\n",
       "0                                                1.0                \n",
       "1                                                7.0                \n",
       "2                                                0.0                \n",
       "3                                                0.0                \n",
       "4                                                0.0                \n",
       "\n",
       "   ClmCount_Provider_BeneID_ClmDiagnosisCode_7_ClmProcedureCode_1  \\\n",
       "0                                                1.0                \n",
       "1                                               32.0                \n",
       "2                                                0.0                \n",
       "3                                                0.0                \n",
       "4                                                1.0                \n",
       "\n",
       "   ClmCount_Provider_BeneID_ClmDiagnosisCode_7_ClmProcedureCode_2  \\\n",
       "0                                                1.0                \n",
       "1                                                7.0                \n",
       "2                                                0.0                \n",
       "3                                                0.0                \n",
       "4                                                0.0                \n",
       "\n",
       "   ClmCount_Provider_BeneID_ClmDiagnosisCode_8_ClmProcedureCode_1  \\\n",
       "0                                                1.0                \n",
       "1                                               31.0                \n",
       "2                                                0.0                \n",
       "3                                                0.0                \n",
       "4                                                0.0                \n",
       "\n",
       "   ClmCount_Provider_BeneID_ClmDiagnosisCode_8_ClmProcedureCode_2  \\\n",
       "0                                                1.0                \n",
       "1                                                7.0                \n",
       "2                                                0.0                \n",
       "3                                                0.0                \n",
       "4                                                0.0                \n",
       "\n",
       "   ClmCount_Provider_BeneID_ClmDiagnosisCode_9_ClmProcedureCode_1  \\\n",
       "0                                                1.0                \n",
       "1                                               28.0                \n",
       "2                                                0.0                \n",
       "3                                                0.0                \n",
       "4                                                0.0                \n",
       "\n",
       "   ClmCount_Provider_BeneID_ClmDiagnosisCode_9_ClmProcedureCode_2  \\\n",
       "0                                                1.0                \n",
       "1                                                7.0                \n",
       "2                                                0.0                \n",
       "3                                                0.0                \n",
       "4                                                0.0                \n",
       "\n",
       "   ClmCount_Provider_BeneID_ClmDiagnosisCode_10_ClmProcedureCode_1  \\\n",
       "0                                                0.0                 \n",
       "1                                                3.0                 \n",
       "2                                                0.0                 \n",
       "3                                                0.0                 \n",
       "4                                                0.0                 \n",
       "\n",
       "   ClmCount_Provider_BeneID_ClmDiagnosisCode_10_ClmProcedureCode_2  \n",
       "0                                                0.0                \n",
       "1                                                1.0                \n",
       "2                                                0.0                \n",
       "3                                                0.0                \n",
       "4                                                0.0                \n",
       "\n",
       "[5 rows x 323 columns]"
      ]
     },
     "execution_count": 11,
     "metadata": {},
     "output_type": "execute_result"
    }
   ],
   "source": [
    "X.head()"
   ]
  },
  {
   "cell_type": "code",
   "execution_count": 12,
   "id": "6f20f2ed-c6a6-4ce9-9320-665abf21002f",
   "metadata": {},
   "outputs": [
    {
     "data": {
      "text/plain": [
       "0    0\n",
       "1    1\n",
       "2    0\n",
       "3    1\n",
       "4    0\n",
       "Name: PotentialFraud, dtype: int64"
      ]
     },
     "execution_count": 12,
     "metadata": {},
     "output_type": "execute_result"
    }
   ],
   "source": [
    "y.head()"
   ]
  },
  {
   "cell_type": "markdown",
   "id": "b9848562-6b2d-4331-b19a-0337ffcbb803",
   "metadata": {},
   "source": [
    "## Train Test Split: Creating TRAIN and VALIDATION sets"
   ]
  },
  {
   "cell_type": "code",
   "execution_count": 13,
   "id": "13be28ba-8cb7-4fbf-be0d-0630d88bdd4a",
   "metadata": {},
   "outputs": [],
   "source": [
    "from sklearn.model_selection import train_test_split as train_test"
   ]
  },
  {
   "cell_type": "code",
   "execution_count": 14,
   "id": "f36efcf3-3b4a-4ba4-bbcd-8e7063e2986a",
   "metadata": {},
   "outputs": [],
   "source": [
    "# One-hot encode categorical features using pandas get_dummies\n",
    "X = pd.get_dummies(X)"
   ]
  },
  {
   "cell_type": "code",
   "execution_count": 15,
   "id": "421efb06-3992-4793-af20-953410b0c192",
   "metadata": {},
   "outputs": [],
   "source": [
    "# Split the dataset into training and testing sets\n",
    "# X_train: Features for training\n",
    "# X_test: Features for testing\n",
    "# y_train: Target variable for training\n",
    "# y_test: Target variable for testing\n",
    "# The test_size parameter sets the proportion of the dataset to include in the test split (here, 20%)\n",
    "# random_state is set for reproducibility\n",
    "X_train, X_test, y_train, y_test = train_test(X, y, test_size=0.20, random_state=42)"
   ]
  },
  {
   "cell_type": "code",
   "execution_count": 16,
   "id": "d7076562-4f16-4883-9d8e-e6cab6276b19",
   "metadata": {},
   "outputs": [
    {
     "data": {
      "text/plain": [
       "((4328, 323), (1082, 323), (4328,), (1082,))"
      ]
     },
     "execution_count": 16,
     "metadata": {},
     "output_type": "execute_result"
    }
   ],
   "source": [
    "# Checking shape of each set\n",
    "X_train.shape, X_test.shape, y_train.shape, y_test.shape"
   ]
  },
  {
   "cell_type": "code",
   "execution_count": 17,
   "id": "358330e7-aef7-457a-93db-4c462a792b97",
   "metadata": {},
   "outputs": [
    {
     "data": {
      "text/plain": [
       "PotentialFraud\n",
       "0    3927\n",
       "1     401\n",
       "Name: count, dtype: int64"
      ]
     },
     "execution_count": 17,
     "metadata": {},
     "output_type": "execute_result"
    }
   ],
   "source": [
    "# Checking count of tgt labels in y_train\n",
    "y_train.value_counts()"
   ]
  },
  {
   "cell_type": "code",
   "execution_count": 18,
   "id": "c019a966-e2f5-4e9a-b27f-6fd3c0b32016",
   "metadata": {},
   "outputs": [
    {
     "data": {
      "text/plain": [
       "PotentialFraud\n",
       "0    977\n",
       "1    105\n",
       "Name: count, dtype: int64"
      ]
     },
     "execution_count": 18,
     "metadata": {},
     "output_type": "execute_result"
    }
   ],
   "source": [
    "# Checking count of tgt labels in y_test\n",
    "y_test.value_counts()"
   ]
  },
  {
   "cell_type": "markdown",
   "id": "9c774097-5ad1-405c-91df-db9e600d22a0",
   "metadata": {},
   "source": [
    "### Standardize the magnitude of numeric features using a scaler"
   ]
  },
  {
   "cell_type": "code",
   "execution_count": 19,
   "id": "d271409a-6019-489c-b2f8-d818cdbccf45",
   "metadata": {},
   "outputs": [],
   "source": [
    "# Import the RobustScaler from the sklearn.preprocessing module\n",
    "from sklearn.preprocessing import RobustScaler\n",
    "\n",
    "# Create an instance of RobustScaler\n",
    "robust_scaler = RobustScaler()\n",
    "# Fit the scaler on the training data\n",
    "robust_scaler.fit(X_train)\n",
    "\n",
    "# Transform the feature matrices for both training and testing sets using the trained scaler\n",
    "X_train_transformed = robust_scaler.transform(X_train)\n",
    "X_test_transformed = robust_scaler.transform(X_test)"
   ]
  },
  {
   "cell_type": "code",
   "execution_count": 20,
   "id": "5820ecf9-72d5-4558-9b6f-3684dcb01c03",
   "metadata": {},
   "outputs": [
    {
     "data": {
      "text/plain": [
       "(4328, 323)"
      ]
     },
     "execution_count": 20,
     "metadata": {},
     "output_type": "execute_result"
    }
   ],
   "source": [
    "X_train_transformed.shape"
   ]
  },
  {
   "cell_type": "code",
   "execution_count": 21,
   "id": "05d6bbe8-8deb-4481-9656-f8d231868854",
   "metadata": {},
   "outputs": [
    {
     "data": {
      "text/plain": [
       "(1082, 323)"
      ]
     },
     "execution_count": 21,
     "metadata": {},
     "output_type": "execute_result"
    }
   ],
   "source": [
    "X_test_transformed.shape"
   ]
  },
  {
   "cell_type": "code",
   "execution_count": null,
   "id": "65fba313-a6e5-4cda-8e57-1e0e48cd700d",
   "metadata": {},
   "outputs": [],
   "source": []
  }
 ],
 "metadata": {
  "kernelspec": {
   "display_name": "Python 3 (ipykernel)",
   "language": "python",
   "name": "python3"
  },
  "language_info": {
   "codemirror_mode": {
    "name": "ipython",
    "version": 3
   },
   "file_extension": ".py",
   "mimetype": "text/x-python",
   "name": "python",
   "nbconvert_exporter": "python",
   "pygments_lexer": "ipython3",
   "version": "3.11.5"
  }
 },
 "nbformat": 4,
 "nbformat_minor": 5
}
