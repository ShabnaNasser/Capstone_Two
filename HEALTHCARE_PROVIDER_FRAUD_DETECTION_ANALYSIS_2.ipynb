{
 "cells": [
  {
   "cell_type": "code",
   "execution_count": 1,
   "id": "f1f913b4-535b-424c-ba66-273b151bf26f",
   "metadata": {},
   "outputs": [],
   "source": [
    "#%run /Users/shabnanasser/workplace/git/Capstone_Two/HEALTHCARE_PROVIDER_FRAUD_DETECTION_ANALYSIS.ipynb"
   ]
  },
  {
   "cell_type": "markdown",
   "id": "66176f4e-4a5c-40c5-8cea-ff694268a311",
   "metadata": {},
   "source": [
    "# Preprocessing"
   ]
  },
  {
   "cell_type": "code",
   "execution_count": 2,
   "id": "4ba3f438-78b1-4515-9202-262608b052bd",
   "metadata": {},
   "outputs": [],
   "source": [
    "pd.set_option('display.max_rows',310)"
   ]
  },
  {
   "cell_type": "code",
   "execution_count": 3,
   "id": "176693da-db18-419d-b1d7-ca9f37293362",
   "metadata": {},
   "outputs": [
    {
     "data": {
      "text/html": [
       "<div>\n",
       "<style scoped>\n",
       "    .dataframe tbody tr th:only-of-type {\n",
       "        vertical-align: middle;\n",
       "    }\n",
       "\n",
       "    .dataframe tbody tr th {\n",
       "        vertical-align: top;\n",
       "    }\n",
       "\n",
       "    .dataframe thead th {\n",
       "        text-align: right;\n",
       "    }\n",
       "</style>\n",
       "<table border=\"1\" class=\"dataframe\">\n",
       "  <thead>\n",
       "    <tr style=\"text-align: right;\">\n",
       "      <th></th>\n",
       "      <th>0</th>\n",
       "    </tr>\n",
       "  </thead>\n",
       "  <tbody>\n",
       "    <tr>\n",
       "      <th>Provider</th>\n",
       "      <td>0</td>\n",
       "    </tr>\n",
       "    <tr>\n",
       "      <th>InscClaimAmtReimbursed</th>\n",
       "      <td>0</td>\n",
       "    </tr>\n",
       "    <tr>\n",
       "      <th>DeductibleAmtPaid</th>\n",
       "      <td>0</td>\n",
       "    </tr>\n",
       "    <tr>\n",
       "      <th>Claim_Duration</th>\n",
       "      <td>0</td>\n",
       "    </tr>\n",
       "    <tr>\n",
       "      <th>Admitted_Days</th>\n",
       "      <td>517737</td>\n",
       "    </tr>\n",
       "    <tr>\n",
       "      <th>...</th>\n",
       "      <td>...</td>\n",
       "    </tr>\n",
       "    <tr>\n",
       "      <th>ClmCount_Provider_BeneID_ClmDiagnosisCode_8_ClmProcedureCode_2</th>\n",
       "      <td>553860</td>\n",
       "    </tr>\n",
       "    <tr>\n",
       "      <th>ClmCount_Provider_BeneID_ClmDiagnosisCode_9_ClmProcedureCode_1</th>\n",
       "      <td>542161</td>\n",
       "    </tr>\n",
       "    <tr>\n",
       "      <th>ClmCount_Provider_BeneID_ClmDiagnosisCode_9_ClmProcedureCode_2</th>\n",
       "      <td>554266</td>\n",
       "    </tr>\n",
       "    <tr>\n",
       "      <th>ClmCount_Provider_BeneID_ClmDiagnosisCode_10_ClmProcedureCode_1</th>\n",
       "      <td>555507</td>\n",
       "    </tr>\n",
       "    <tr>\n",
       "      <th>ClmCount_Provider_BeneID_ClmDiagnosisCode_10_ClmProcedureCode_2</th>\n",
       "      <td>557513</td>\n",
       "    </tr>\n",
       "  </tbody>\n",
       "</table>\n",
       "<p>326 rows × 1 columns</p>\n",
       "</div>"
      ],
      "text/plain": [
       "                                                         0\n",
       "Provider                                                 0\n",
       "InscClaimAmtReimbursed                                   0\n",
       "DeductibleAmtPaid                                        0\n",
       "Claim_Duration                                           0\n",
       "Admitted_Days                                       517737\n",
       "...                                                    ...\n",
       "ClmCount_Provider_BeneID_ClmDiagnosisCode_8_Clm...  553860\n",
       "ClmCount_Provider_BeneID_ClmDiagnosisCode_9_Clm...  542161\n",
       "ClmCount_Provider_BeneID_ClmDiagnosisCode_9_Clm...  554266\n",
       "ClmCount_Provider_BeneID_ClmDiagnosisCode_10_Cl...  555507\n",
       "ClmCount_Provider_BeneID_ClmDiagnosisCode_10_Cl...  557513\n",
       "\n",
       "[326 rows x 1 columns]"
      ]
     },
     "execution_count": 3,
     "metadata": {},
     "output_type": "execute_result"
    }
   ],
   "source": [
    "# Checking Nulls in the features\n",
    "pd.DataFrame(train_iobt_data.isna().sum())"
   ]
  },
  {
   "cell_type": "code",
   "execution_count": 4,
   "id": "ff0f5b0f-19db-4ba2-b286-75eabf1cbe01",
   "metadata": {},
   "outputs": [],
   "source": [
    "# Filling Nulls in the aggregated features\n",
    "train_iobt_data.fillna(value=0, inplace=True)"
   ]
  },
  {
   "cell_type": "code",
   "execution_count": 5,
   "id": "c55220f9-1054-48e4-81f5-c6f15a825592",
   "metadata": {},
   "outputs": [
    {
     "data": {
      "text/html": [
       "<div>\n",
       "<style scoped>\n",
       "    .dataframe tbody tr th:only-of-type {\n",
       "        vertical-align: middle;\n",
       "    }\n",
       "\n",
       "    .dataframe tbody tr th {\n",
       "        vertical-align: top;\n",
       "    }\n",
       "\n",
       "    .dataframe thead th {\n",
       "        text-align: right;\n",
       "    }\n",
       "</style>\n",
       "<table border=\"1\" class=\"dataframe\">\n",
       "  <thead>\n",
       "    <tr style=\"text-align: right;\">\n",
       "      <th></th>\n",
       "      <th>0</th>\n",
       "    </tr>\n",
       "  </thead>\n",
       "  <tbody>\n",
       "    <tr>\n",
       "      <th>Provider</th>\n",
       "      <td>0</td>\n",
       "    </tr>\n",
       "    <tr>\n",
       "      <th>InscClaimAmtReimbursed</th>\n",
       "      <td>0</td>\n",
       "    </tr>\n",
       "    <tr>\n",
       "      <th>DeductibleAmtPaid</th>\n",
       "      <td>0</td>\n",
       "    </tr>\n",
       "    <tr>\n",
       "      <th>Claim_Duration</th>\n",
       "      <td>0</td>\n",
       "    </tr>\n",
       "    <tr>\n",
       "      <th>Admitted_Days</th>\n",
       "      <td>0</td>\n",
       "    </tr>\n",
       "    <tr>\n",
       "      <th>...</th>\n",
       "      <td>...</td>\n",
       "    </tr>\n",
       "    <tr>\n",
       "      <th>ClmCount_Provider_BeneID_ClmDiagnosisCode_8_ClmProcedureCode_2</th>\n",
       "      <td>0</td>\n",
       "    </tr>\n",
       "    <tr>\n",
       "      <th>ClmCount_Provider_BeneID_ClmDiagnosisCode_9_ClmProcedureCode_1</th>\n",
       "      <td>0</td>\n",
       "    </tr>\n",
       "    <tr>\n",
       "      <th>ClmCount_Provider_BeneID_ClmDiagnosisCode_9_ClmProcedureCode_2</th>\n",
       "      <td>0</td>\n",
       "    </tr>\n",
       "    <tr>\n",
       "      <th>ClmCount_Provider_BeneID_ClmDiagnosisCode_10_ClmProcedureCode_1</th>\n",
       "      <td>0</td>\n",
       "    </tr>\n",
       "    <tr>\n",
       "      <th>ClmCount_Provider_BeneID_ClmDiagnosisCode_10_ClmProcedureCode_2</th>\n",
       "      <td>0</td>\n",
       "    </tr>\n",
       "  </tbody>\n",
       "</table>\n",
       "<p>326 rows × 1 columns</p>\n",
       "</div>"
      ],
      "text/plain": [
       "                                                    0\n",
       "Provider                                            0\n",
       "InscClaimAmtReimbursed                              0\n",
       "DeductibleAmtPaid                                   0\n",
       "Claim_Duration                                      0\n",
       "Admitted_Days                                       0\n",
       "...                                                ..\n",
       "ClmCount_Provider_BeneID_ClmDiagnosisCode_8_Clm...  0\n",
       "ClmCount_Provider_BeneID_ClmDiagnosisCode_9_Clm...  0\n",
       "ClmCount_Provider_BeneID_ClmDiagnosisCode_9_Clm...  0\n",
       "ClmCount_Provider_BeneID_ClmDiagnosisCode_10_Cl...  0\n",
       "ClmCount_Provider_BeneID_ClmDiagnosisCode_10_Cl...  0\n",
       "\n",
       "[326 rows x 1 columns]"
      ]
     },
     "execution_count": 5,
     "metadata": {},
     "output_type": "execute_result"
    }
   ],
   "source": [
    "# Checking Nulls in the features\n",
    "pd.DataFrame(train_iobt_data.isna().sum())"
   ]
  },
  {
   "cell_type": "code",
   "execution_count": 6,
   "id": "c31fdb6f-c001-4dbe-809f-10364fc703b1",
   "metadata": {},
   "outputs": [
    {
     "data": {
      "text/plain": [
       "Provider                                                            object\n",
       "InscClaimAmtReimbursed                                               int64\n",
       "DeductibleAmtPaid                                                  float64\n",
       "Claim_Duration                                                       int64\n",
       "Admitted_Days                                                      float64\n",
       "                                                                    ...   \n",
       "ClmCount_Provider_BeneID_ClmDiagnosisCode_8_ClmProcedureCode_2     float64\n",
       "ClmCount_Provider_BeneID_ClmDiagnosisCode_9_ClmProcedureCode_1     float64\n",
       "ClmCount_Provider_BeneID_ClmDiagnosisCode_9_ClmProcedureCode_2     float64\n",
       "ClmCount_Provider_BeneID_ClmDiagnosisCode_10_ClmProcedureCode_1    float64\n",
       "ClmCount_Provider_BeneID_ClmDiagnosisCode_10_ClmProcedureCode_2    float64\n",
       "Length: 326, dtype: object"
      ]
     },
     "execution_count": 6,
     "metadata": {},
     "output_type": "execute_result"
    }
   ],
   "source": [
    "train_iobt_data.dtypes"
   ]
  },
  {
   "cell_type": "markdown",
   "id": "bfc20fc2-1b00-4064-9ed3-ef97010c328f",
   "metadata": {},
   "source": [
    "### Entire Data Aggregation : At provider level\n",
    "\n",
    "The main objective is to predict the Medicare Provider Fraud. Thus, here we are grouping the entire dataset at the level of PROVIDER and taking SUM of all the columns to create n-dimensional representation of each provider."
   ]
  },
  {
   "cell_type": "code",
   "execution_count": 7,
   "id": "9c3eb118-fce3-43b0-b83a-24ae01d67036",
   "metadata": {},
   "outputs": [
    {
     "name": "stderr",
     "output_type": "stream",
     "text": [
      "/var/folders/dr/bq_yqfv17s7ds_x4dngdrn4r0000gn/T/ipykernel_7343/1877811017.py:1: PerformanceWarning: DataFrame is highly fragmented.  This is usually the result of calling `frame.insert` many times, which has poor performance.  Consider joining all columns at once using pd.concat(axis=1) instead. To get a de-fragmented frame, use `newframe = frame.copy()`\n",
      "  train_iobt_data = train_iobt_data.groupby(['Provider','PotentialFraud'],as_index=False).agg('sum')\n",
      "/var/folders/dr/bq_yqfv17s7ds_x4dngdrn4r0000gn/T/ipykernel_7343/1877811017.py:1: PerformanceWarning: DataFrame is highly fragmented.  This is usually the result of calling `frame.insert` many times, which has poor performance.  Consider joining all columns at once using pd.concat(axis=1) instead. To get a de-fragmented frame, use `newframe = frame.copy()`\n",
      "  train_iobt_data = train_iobt_data.groupby(['Provider','PotentialFraud'],as_index=False).agg('sum')\n"
     ]
    }
   ],
   "source": [
    "train_iobt_data = train_iobt_data.groupby(['Provider','PotentialFraud'],as_index=False).agg('sum')\n"
   ]
  },
  {
   "cell_type": "code",
   "execution_count": 8,
   "id": "37c4e5e6-b39c-409b-ba59-389c6d672e01",
   "metadata": {},
   "outputs": [
    {
     "data": {
      "text/plain": [
       "(5410, 326)"
      ]
     },
     "execution_count": 8,
     "metadata": {},
     "output_type": "execute_result"
    }
   ],
   "source": [
    "train_iobt_data.shape"
   ]
  },
  {
   "cell_type": "markdown",
   "id": "8f0f5be2-18a2-4fd0-91eb-27a9af25a4bf",
   "metadata": {},
   "source": [
    "Creating separate sets of independent features and target column.\n",
    "* These sets will be used for training the ML Models."
   ]
  },
  {
   "cell_type": "code",
   "execution_count": 9,
   "id": "b7988473-751c-45a0-95e0-b32300e01805",
   "metadata": {},
   "outputs": [],
   "source": [
    "X = train_iobt_data.drop(axis=1, columns=['Provider','PotentialFraud','RenalDiseaseIndicator'])\n",
    "y = train_iobt_data['PotentialFraud']"
   ]
  },
  {
   "cell_type": "code",
   "execution_count": 10,
   "id": "8d8791c2-f0f3-4ac8-9402-972f7845106e",
   "metadata": {},
   "outputs": [
    {
     "data": {
      "text/plain": [
       "((5410, 323), pandas.core.frame.DataFrame, (5410,), pandas.core.series.Series)"
      ]
     },
     "execution_count": 10,
     "metadata": {},
     "output_type": "execute_result"
    }
   ],
   "source": [
    "X.shape, type(X), y.shape, type(y)"
   ]
  },
  {
   "cell_type": "code",
   "execution_count": 11,
   "id": "ea4783a6-0ef1-4018-8074-63d22ce592f5",
   "metadata": {},
   "outputs": [
    {
     "data": {
      "text/html": [
       "<div>\n",
       "<style scoped>\n",
       "    .dataframe tbody tr th:only-of-type {\n",
       "        vertical-align: middle;\n",
       "    }\n",
       "\n",
       "    .dataframe tbody tr th {\n",
       "        vertical-align: top;\n",
       "    }\n",
       "\n",
       "    .dataframe thead th {\n",
       "        text-align: right;\n",
       "    }\n",
       "</style>\n",
       "<table border=\"1\" class=\"dataframe\">\n",
       "  <thead>\n",
       "    <tr style=\"text-align: right;\">\n",
       "      <th></th>\n",
       "      <th>InscClaimAmtReimbursed</th>\n",
       "      <th>DeductibleAmtPaid</th>\n",
       "      <th>Claim_Duration</th>\n",
       "      <th>Admitted_Days</th>\n",
       "      <th>Gender</th>\n",
       "      <th>Race</th>\n",
       "      <th>ChronicCond_Alzheimer</th>\n",
       "      <th>ChronicCond_Heartfailure</th>\n",
       "      <th>ChronicCond_KidneyDisease</th>\n",
       "      <th>ChronicCond_Cancer</th>\n",
       "      <th>...</th>\n",
       "      <th>ClmCount_Provider_BeneID_ClmDiagnosisCode_6_ClmProcedureCode_1</th>\n",
       "      <th>ClmCount_Provider_BeneID_ClmDiagnosisCode_6_ClmProcedureCode_2</th>\n",
       "      <th>ClmCount_Provider_BeneID_ClmDiagnosisCode_7_ClmProcedureCode_1</th>\n",
       "      <th>ClmCount_Provider_BeneID_ClmDiagnosisCode_7_ClmProcedureCode_2</th>\n",
       "      <th>ClmCount_Provider_BeneID_ClmDiagnosisCode_8_ClmProcedureCode_1</th>\n",
       "      <th>ClmCount_Provider_BeneID_ClmDiagnosisCode_8_ClmProcedureCode_2</th>\n",
       "      <th>ClmCount_Provider_BeneID_ClmDiagnosisCode_9_ClmProcedureCode_1</th>\n",
       "      <th>ClmCount_Provider_BeneID_ClmDiagnosisCode_9_ClmProcedureCode_2</th>\n",
       "      <th>ClmCount_Provider_BeneID_ClmDiagnosisCode_10_ClmProcedureCode_1</th>\n",
       "      <th>ClmCount_Provider_BeneID_ClmDiagnosisCode_10_ClmProcedureCode_2</th>\n",
       "    </tr>\n",
       "  </thead>\n",
       "  <tbody>\n",
       "    <tr>\n",
       "      <th>0</th>\n",
       "      <td>104640</td>\n",
       "      <td>5340.0</td>\n",
       "      <td>36</td>\n",
       "      <td>25.0</td>\n",
       "      <td>41</td>\n",
       "      <td>29</td>\n",
       "      <td>35</td>\n",
       "      <td>31</td>\n",
       "      <td>33</td>\n",
       "      <td>45</td>\n",
       "      <td>...</td>\n",
       "      <td>2.0</td>\n",
       "      <td>1.0</td>\n",
       "      <td>1.0</td>\n",
       "      <td>1.0</td>\n",
       "      <td>1.0</td>\n",
       "      <td>1.0</td>\n",
       "      <td>1.0</td>\n",
       "      <td>1.0</td>\n",
       "      <td>0.0</td>\n",
       "      <td>0.0</td>\n",
       "    </tr>\n",
       "    <tr>\n",
       "      <th>1</th>\n",
       "      <td>605670</td>\n",
       "      <td>66286.0</td>\n",
       "      <td>485</td>\n",
       "      <td>320.0</td>\n",
       "      <td>210</td>\n",
       "      <td>160</td>\n",
       "      <td>208</td>\n",
       "      <td>184</td>\n",
       "      <td>200</td>\n",
       "      <td>254</td>\n",
       "      <td>...</td>\n",
       "      <td>34.0</td>\n",
       "      <td>7.0</td>\n",
       "      <td>32.0</td>\n",
       "      <td>7.0</td>\n",
       "      <td>31.0</td>\n",
       "      <td>7.0</td>\n",
       "      <td>28.0</td>\n",
       "      <td>7.0</td>\n",
       "      <td>3.0</td>\n",
       "      <td>1.0</td>\n",
       "    </tr>\n",
       "    <tr>\n",
       "      <th>2</th>\n",
       "      <td>52170</td>\n",
       "      <td>310.0</td>\n",
       "      <td>213</td>\n",
       "      <td>0.0</td>\n",
       "      <td>252</td>\n",
       "      <td>183</td>\n",
       "      <td>234</td>\n",
       "      <td>210</td>\n",
       "      <td>248</td>\n",
       "      <td>282</td>\n",
       "      <td>...</td>\n",
       "      <td>0.0</td>\n",
       "      <td>0.0</td>\n",
       "      <td>0.0</td>\n",
       "      <td>0.0</td>\n",
       "      <td>0.0</td>\n",
       "      <td>0.0</td>\n",
       "      <td>0.0</td>\n",
       "      <td>0.0</td>\n",
       "      <td>0.0</td>\n",
       "      <td>0.0</td>\n",
       "    </tr>\n",
       "    <tr>\n",
       "      <th>3</th>\n",
       "      <td>280910</td>\n",
       "      <td>3700.0</td>\n",
       "      <td>1268</td>\n",
       "      <td>0.0</td>\n",
       "      <td>1819</td>\n",
       "      <td>1447</td>\n",
       "      <td>1904</td>\n",
       "      <td>1650</td>\n",
       "      <td>1823</td>\n",
       "      <td>2165</td>\n",
       "      <td>...</td>\n",
       "      <td>0.0</td>\n",
       "      <td>0.0</td>\n",
       "      <td>0.0</td>\n",
       "      <td>0.0</td>\n",
       "      <td>0.0</td>\n",
       "      <td>0.0</td>\n",
       "      <td>0.0</td>\n",
       "      <td>0.0</td>\n",
       "      <td>0.0</td>\n",
       "      <td>0.0</td>\n",
       "    </tr>\n",
       "    <tr>\n",
       "      <th>4</th>\n",
       "      <td>33710</td>\n",
       "      <td>3264.0</td>\n",
       "      <td>69</td>\n",
       "      <td>16.0</td>\n",
       "      <td>110</td>\n",
       "      <td>86</td>\n",
       "      <td>118</td>\n",
       "      <td>104</td>\n",
       "      <td>122</td>\n",
       "      <td>132</td>\n",
       "      <td>...</td>\n",
       "      <td>1.0</td>\n",
       "      <td>0.0</td>\n",
       "      <td>1.0</td>\n",
       "      <td>0.0</td>\n",
       "      <td>0.0</td>\n",
       "      <td>0.0</td>\n",
       "      <td>0.0</td>\n",
       "      <td>0.0</td>\n",
       "      <td>0.0</td>\n",
       "      <td>0.0</td>\n",
       "    </tr>\n",
       "  </tbody>\n",
       "</table>\n",
       "<p>5 rows × 323 columns</p>\n",
       "</div>"
      ],
      "text/plain": [
       "   InscClaimAmtReimbursed  DeductibleAmtPaid  Claim_Duration  Admitted_Days  \\\n",
       "0                  104640             5340.0              36           25.0   \n",
       "1                  605670            66286.0             485          320.0   \n",
       "2                   52170              310.0             213            0.0   \n",
       "3                  280910             3700.0            1268            0.0   \n",
       "4                   33710             3264.0              69           16.0   \n",
       "\n",
       "   Gender  Race  ChronicCond_Alzheimer  ChronicCond_Heartfailure  \\\n",
       "0      41    29                     35                        31   \n",
       "1     210   160                    208                       184   \n",
       "2     252   183                    234                       210   \n",
       "3    1819  1447                   1904                      1650   \n",
       "4     110    86                    118                       104   \n",
       "\n",
       "   ChronicCond_KidneyDisease  ChronicCond_Cancer  ...  \\\n",
       "0                         33                  45  ...   \n",
       "1                        200                 254  ...   \n",
       "2                        248                 282  ...   \n",
       "3                       1823                2165  ...   \n",
       "4                        122                 132  ...   \n",
       "\n",
       "   ClmCount_Provider_BeneID_ClmDiagnosisCode_6_ClmProcedureCode_1  \\\n",
       "0                                                2.0                \n",
       "1                                               34.0                \n",
       "2                                                0.0                \n",
       "3                                                0.0                \n",
       "4                                                1.0                \n",
       "\n",
       "   ClmCount_Provider_BeneID_ClmDiagnosisCode_6_ClmProcedureCode_2  \\\n",
       "0                                                1.0                \n",
       "1                                                7.0                \n",
       "2                                                0.0                \n",
       "3                                                0.0                \n",
       "4                                                0.0                \n",
       "\n",
       "   ClmCount_Provider_BeneID_ClmDiagnosisCode_7_ClmProcedureCode_1  \\\n",
       "0                                                1.0                \n",
       "1                                               32.0                \n",
       "2                                                0.0                \n",
       "3                                                0.0                \n",
       "4                                                1.0                \n",
       "\n",
       "   ClmCount_Provider_BeneID_ClmDiagnosisCode_7_ClmProcedureCode_2  \\\n",
       "0                                                1.0                \n",
       "1                                                7.0                \n",
       "2                                                0.0                \n",
       "3                                                0.0                \n",
       "4                                                0.0                \n",
       "\n",
       "   ClmCount_Provider_BeneID_ClmDiagnosisCode_8_ClmProcedureCode_1  \\\n",
       "0                                                1.0                \n",
       "1                                               31.0                \n",
       "2                                                0.0                \n",
       "3                                                0.0                \n",
       "4                                                0.0                \n",
       "\n",
       "   ClmCount_Provider_BeneID_ClmDiagnosisCode_8_ClmProcedureCode_2  \\\n",
       "0                                                1.0                \n",
       "1                                                7.0                \n",
       "2                                                0.0                \n",
       "3                                                0.0                \n",
       "4                                                0.0                \n",
       "\n",
       "   ClmCount_Provider_BeneID_ClmDiagnosisCode_9_ClmProcedureCode_1  \\\n",
       "0                                                1.0                \n",
       "1                                               28.0                \n",
       "2                                                0.0                \n",
       "3                                                0.0                \n",
       "4                                                0.0                \n",
       "\n",
       "   ClmCount_Provider_BeneID_ClmDiagnosisCode_9_ClmProcedureCode_2  \\\n",
       "0                                                1.0                \n",
       "1                                                7.0                \n",
       "2                                                0.0                \n",
       "3                                                0.0                \n",
       "4                                                0.0                \n",
       "\n",
       "   ClmCount_Provider_BeneID_ClmDiagnosisCode_10_ClmProcedureCode_1  \\\n",
       "0                                                0.0                 \n",
       "1                                                3.0                 \n",
       "2                                                0.0                 \n",
       "3                                                0.0                 \n",
       "4                                                0.0                 \n",
       "\n",
       "   ClmCount_Provider_BeneID_ClmDiagnosisCode_10_ClmProcedureCode_2  \n",
       "0                                                0.0                \n",
       "1                                                1.0                \n",
       "2                                                0.0                \n",
       "3                                                0.0                \n",
       "4                                                0.0                \n",
       "\n",
       "[5 rows x 323 columns]"
      ]
     },
     "execution_count": 11,
     "metadata": {},
     "output_type": "execute_result"
    }
   ],
   "source": [
    "X.head()"
   ]
  },
  {
   "cell_type": "code",
   "execution_count": 12,
   "id": "6f20f2ed-c6a6-4ce9-9320-665abf21002f",
   "metadata": {},
   "outputs": [
    {
     "data": {
      "text/plain": [
       "0    0\n",
       "1    1\n",
       "2    0\n",
       "3    1\n",
       "4    0\n",
       "Name: PotentialFraud, dtype: int64"
      ]
     },
     "execution_count": 12,
     "metadata": {},
     "output_type": "execute_result"
    }
   ],
   "source": [
    "y.head()"
   ]
  },
  {
   "cell_type": "markdown",
   "id": "b9848562-6b2d-4331-b19a-0337ffcbb803",
   "metadata": {},
   "source": [
    "## Train Test Split: Creating TRAIN and VALIDATION sets"
   ]
  },
  {
   "cell_type": "code",
   "execution_count": 13,
   "id": "13be28ba-8cb7-4fbf-be0d-0630d88bdd4a",
   "metadata": {},
   "outputs": [],
   "source": [
    "from sklearn.model_selection import train_test_split as train_test"
   ]
  },
  {
   "cell_type": "code",
   "execution_count": 14,
   "id": "f36efcf3-3b4a-4ba4-bbcd-8e7063e2986a",
   "metadata": {},
   "outputs": [],
   "source": [
    "X = pd.get_dummies(X)"
   ]
  },
  {
   "cell_type": "code",
   "execution_count": 15,
   "id": "421efb06-3992-4793-af20-953410b0c192",
   "metadata": {},
   "outputs": [],
   "source": [
    "X_train, X_test, y_train, y_test = train_test(X, y, test_size=0.20, stratify=y, random_state=39)"
   ]
  },
  {
   "cell_type": "code",
   "execution_count": 16,
   "id": "d7076562-4f16-4883-9d8e-e6cab6276b19",
   "metadata": {},
   "outputs": [
    {
     "data": {
      "text/plain": [
       "((4328, 323), (1082, 323), (4328,), (1082,))"
      ]
     },
     "execution_count": 16,
     "metadata": {},
     "output_type": "execute_result"
    }
   ],
   "source": [
    "# Checking shape of each set\n",
    "X_train.shape, X_test.shape, y_train.shape, y_test.shape"
   ]
  },
  {
   "cell_type": "code",
   "execution_count": 17,
   "id": "358330e7-aef7-457a-93db-4c462a792b97",
   "metadata": {},
   "outputs": [
    {
     "data": {
      "text/plain": [
       "PotentialFraud\n",
       "0    3923\n",
       "1     405\n",
       "Name: count, dtype: int64"
      ]
     },
     "execution_count": 17,
     "metadata": {},
     "output_type": "execute_result"
    }
   ],
   "source": [
    "# Checking count of tgt labels in y_train\n",
    "y_train.value_counts()"
   ]
  },
  {
   "cell_type": "code",
   "execution_count": 18,
   "id": "c019a966-e2f5-4e9a-b27f-6fd3c0b32016",
   "metadata": {},
   "outputs": [
    {
     "data": {
      "text/plain": [
       "PotentialFraud\n",
       "0    981\n",
       "1    101\n",
       "Name: count, dtype: int64"
      ]
     },
     "execution_count": 18,
     "metadata": {},
     "output_type": "execute_result"
    }
   ],
   "source": [
    "# Checking count of tgt labels in y_test\n",
    "y_test.value_counts()"
   ]
  },
  {
   "cell_type": "markdown",
   "id": "9c774097-5ad1-405c-91df-db9e600d22a0",
   "metadata": {},
   "source": [
    "### Standardize the magnitude of numeric features using a scaler"
   ]
  },
  {
   "cell_type": "code",
   "execution_count": 19,
   "id": "d271409a-6019-489c-b2f8-d818cdbccf45",
   "metadata": {},
   "outputs": [],
   "source": [
    "from sklearn.preprocessing import RobustScaler\n",
    "\n",
    "robust_scaler = RobustScaler()\n",
    "robust_scaler.fit(X_train)\n",
    "X_train_transformed = robust_scaler.transform(X_train)\n",
    "X_test_transformed = robust_scaler.transform(X_test)"
   ]
  },
  {
   "cell_type": "code",
   "execution_count": 20,
   "id": "5820ecf9-72d5-4558-9b6f-3684dcb01c03",
   "metadata": {},
   "outputs": [
    {
     "data": {
      "text/plain": [
       "(4328, 323)"
      ]
     },
     "execution_count": 20,
     "metadata": {},
     "output_type": "execute_result"
    }
   ],
   "source": [
    "#X_train[list(X_train.select_dtypes(exclude=['object']).columns)] = RobustScaler().fit_transform(X_train[list(X_train.select_dtypes(exclude=['object']).columns)])\n",
    "X_train_transformed.shape"
   ]
  },
  {
   "cell_type": "code",
   "execution_count": 21,
   "id": "05d6bbe8-8deb-4481-9656-f8d231868854",
   "metadata": {},
   "outputs": [
    {
     "data": {
      "text/plain": [
       "(1082, 323)"
      ]
     },
     "execution_count": 21,
     "metadata": {},
     "output_type": "execute_result"
    }
   ],
   "source": [
    "#X_test[list(X_test.select_dtypes(exclude=['object']).columns)] = RobustScaler().fit_transform(X_test[list(X_test.select_dtypes(exclude=['object']).columns)])\n",
    "\n",
    "X_test_transformed.shape"
   ]
  },
  {
   "cell_type": "code",
   "execution_count": null,
   "id": "16197731-597c-44fd-b3de-4df42976db20",
   "metadata": {},
   "outputs": [],
   "source": []
  },
  {
   "cell_type": "markdown",
   "id": "318fb94c-db9a-4a17-addc-fd0c49532f50",
   "metadata": {},
   "source": [
    "# Modeling"
   ]
  },
  {
   "cell_type": "markdown",
   "id": "1895ca86-73a9-45cb-b57e-834222518857",
   "metadata": {},
   "source": [
    "## 1) Logistic Regression"
   ]
  },
  {
   "cell_type": "code",
   "execution_count": 22,
   "id": "8b50f52a-1d3f-46a5-b16f-b9649d7bca49",
   "metadata": {},
   "outputs": [],
   "source": [
    "from sklearn.linear_model import LogisticRegressionCV\n",
    "from sklearn import metrics\n",
    "from sklearn.linear_model import LogisticRegression\n",
    "from sklearn.tree import DecisionTreeClassifier\n",
    "from sklearn.ensemble import RandomForestClassifier\n",
    "from sklearn.metrics import accuracy_score, classification_report, confusion_matrix, precision_score, recall_score, f1_score\n",
    "from sklearn.model_selection import cross_val_score\n",
    "\n",
    "#from sklearn.metrics import accuracy_score, precision_score, recall_score, f1_score, roc_auc_score, confusion_matrix, roc_curve, auc\n"
   ]
  },
  {
   "cell_type": "code",
   "execution_count": 23,
   "id": "ded41f04-0174-45ab-a79b-cfa70114d10c",
   "metadata": {},
   "outputs": [
    {
     "name": "stdout",
     "output_type": "stream",
     "text": [
      "Cross-Validation Scores for Logistic Regression: [0.85103926 0.83949192 0.87297921 0.86589595 0.86705202]\n",
      "Mean CV Score: 0.8592916738976625\n",
      "\n",
      "Evaluation Metrics for Logistic Regression:\n",
      "Accuracy: 0.9390018484288355\n",
      "Precision: 0.7108433734939759\n",
      "Recall: 0.5841584158415841\n",
      "F1-Score: 0.6413043478260868\n",
      "\n"
     ]
    }
   ],
   "source": [
    "#Logistic Regression\n",
    "logreg_model = LogisticRegression(solver='liblinear',max_iter=1000)\n",
    "\n",
    "# Hyperparameter tuning with cross-validation\n",
    "\n",
    "cv_scores_logreg = cross_val_score(logreg_model, X_train, y_train, cv=5)\n",
    "print(f\"Cross-Validation Scores for Logistic Regression: {cv_scores_logreg}\")\n",
    "print(f\"Mean CV Score: {cv_scores_logreg.mean()}\\n\")\n",
    "\n",
    "# Train and evaluate models\n",
    "logreg_model.fit(X_train_transformed, y_train)\n",
    "y_pred_logreg = logreg_model.predict(X_test_transformed)\n",
    "\n",
    "\n",
    "accuracy_logreg = accuracy_score(y_test, y_pred_logreg)\n",
    "precision_logreg = precision_score(y_test, y_pred_logreg)\n",
    "recall_logreg = recall_score(y_test, y_pred_logreg)\n",
    "f1_logreg = f1_score(y_test, y_pred_logreg)\n",
    "\n",
    "print(\"Evaluation Metrics for Logistic Regression:\")\n",
    "print(f\"Accuracy: {accuracy_logreg}\")\n",
    "print(f\"Precision: {precision_logreg}\")\n",
    "print(f\"Recall: {recall_logreg}\")\n",
    "print(f\"F1-Score: {f1_logreg}\\n\")"
   ]
  },
  {
   "cell_type": "markdown",
   "id": "15e2e21c-09c5-4b4b-88d8-76ada99daf29",
   "metadata": {},
   "source": [
    "## 2) Decision Tree"
   ]
  },
  {
   "cell_type": "code",
   "execution_count": 25,
   "id": "6cc083ad-da75-4a38-b29a-28c76ec6ffac",
   "metadata": {},
   "outputs": [
    {
     "name": "stdout",
     "output_type": "stream",
     "text": [
      "Cross-Validation Scores for Decision Tree: [0.89145497 0.90069284 0.89722864 0.88901734 0.90289017]\n",
      "Mean CV Score: 0.8962567915737761\n",
      "\n",
      "Evaluation Metrics for Decision Tree:\n",
      "Accuracy: 0.9001848428835489\n",
      "Precision: 0.46846846846846846\n",
      "Recall: 0.5148514851485149\n",
      "F1-Score: 0.49056603773584906\n",
      "\n"
     ]
    }
   ],
   "source": [
    "\n",
    "# Decision Tree\n",
    "dt_model = DecisionTreeClassifier()\n",
    "cv_scores_dt = cross_val_score(dt_model, X_train, y_train, cv=5)\n",
    "print(f\"Cross-Validation Scores for Decision Tree: {cv_scores_dt}\")\n",
    "print(f\"Mean CV Score: {cv_scores_dt.mean()}\\n\")\n",
    "\n",
    "dt_model.fit(X_train, y_train)\n",
    "y_pred_dt = dt_model.predict(X_test)\n",
    "accuracy_dt = accuracy_score(y_test, y_pred_dt)\n",
    "precision_dt = precision_score(y_test, y_pred_dt)\n",
    "recall_dt = recall_score(y_test, y_pred_dt)\n",
    "f1_dt = f1_score(y_test, y_pred_dt)\n",
    "\n",
    "print(\"Evaluation Metrics for Decision Tree:\")\n",
    "print(f\"Accuracy: {accuracy_dt}\")\n",
    "print(f\"Precision: {precision_dt}\")\n",
    "print(f\"Recall: {recall_dt}\")\n",
    "print(f\"F1-Score: {f1_dt}\\n\")\n",
    "\n"
   ]
  },
  {
   "cell_type": "markdown",
   "id": "e2e88bca-5dfd-4695-a4be-5c7d7c2520c0",
   "metadata": {},
   "source": [
    "## 3) Random Forest Classifiers:"
   ]
  },
  {
   "cell_type": "code",
   "execution_count": 26,
   "id": "ef6484a9-a04f-4d64-b47c-a9547c6485ce",
   "metadata": {},
   "outputs": [
    {
     "name": "stdout",
     "output_type": "stream",
     "text": [
      "Cross-Validation Scores for Random Forest: [0.92032333 0.9295612  0.92725173 0.92947977 0.93988439]\n",
      "Mean CV Score: 0.9293000841020438\n",
      "\n",
      "Evaluation Metrics for Random Forest:\n",
      "Accuracy: 0.9399260628465804\n",
      "Precision: 0.78125\n",
      "Recall: 0.49504950495049505\n",
      "F1-Score: 0.6060606060606061\n",
      "\n"
     ]
    }
   ],
   "source": [
    "# Random Forest\n",
    "rf_model = RandomForestClassifier()\n",
    "cv_scores_rf = cross_val_score(rf_model, X_train, y_train, cv=5)\n",
    "print(f\"Cross-Validation Scores for Random Forest: {cv_scores_rf}\")\n",
    "print(f\"Mean CV Score: {cv_scores_rf.mean()}\\n\")\n",
    "\n",
    "rf_model.fit(X_train, y_train)\n",
    "y_pred_rf = rf_model.predict(X_test)\n",
    "accuracy_rf = accuracy_score(y_test, y_pred_rf)\n",
    "precision_rf = precision_score(y_test, y_pred_rf)\n",
    "recall_rf = recall_score(y_test, y_pred_rf)\n",
    "f1_rf = f1_score(y_test, y_pred_rf)\n",
    "\n",
    "print(\"Evaluation Metrics for Random Forest:\")\n",
    "print(f\"Accuracy: {accuracy_rf}\")\n",
    "print(f\"Precision: {precision_rf}\")\n",
    "print(f\"Recall: {recall_rf}\")\n",
    "print(f\"F1-Score: {f1_rf}\\n\")\n"
   ]
  },
  {
   "cell_type": "code",
   "execution_count": 27,
   "id": "eebaab5b-67f7-4d7b-935f-6dd39e18c709",
   "metadata": {},
   "outputs": [
    {
     "name": "stdout",
     "output_type": "stream",
     "text": [
      "The best model is: LogisticRegression with F1-Score: 0.6413043478260868\n"
     ]
    }
   ],
   "source": [
    "# Identify the best model based on F1-Score\n",
    "best_model = max([(logreg_model, f1_logreg), (dt_model, f1_dt), (rf_model, f1_rf)], key=lambda x: x[1])\n",
    "print(f\"The best model is: {type(best_model[0]).__name__} with F1-Score: {best_model[1]}\")\n"
   ]
  },
  {
   "cell_type": "code",
   "execution_count": 29,
   "id": "b0bf8018-dd13-4e68-ba08-81b43fde29db",
   "metadata": {},
   "outputs": [],
   "source": [
    "import import_ipynb"
   ]
  },
  {
   "cell_type": "code",
   "execution_count": 30,
   "id": "4d97e99a-9743-422a-a67d-0108da767b6b",
   "metadata": {},
   "outputs": [
    {
     "ename": "ModuleNotFoundError",
     "evalue": "No module named 'HEALTHCARE_PROVIDER_FRAUD_DETECTION_ANALYSIS'",
     "output_type": "error",
     "traceback": [
      "\u001b[0;31m---------------------------------------------------------------------------\u001b[0m",
      "\u001b[0;31mModuleNotFoundError\u001b[0m                       Traceback (most recent call last)",
      "Cell \u001b[0;32mIn[30], line 1\u001b[0m\n\u001b[0;32m----> 1\u001b[0m \u001b[38;5;28;01mimport\u001b[39;00m \u001b[38;5;21;01mHEALTHCARE_PROVIDER_FRAUD_DETECTION_ANALYSIS\u001b[39;00m\n",
      "\u001b[0;31mModuleNotFoundError\u001b[0m: No module named 'HEALTHCARE_PROVIDER_FRAUD_DETECTION_ANALYSIS'"
     ]
    }
   ],
   "source": [
    "import HEALTHCARE_PROVIDER_FRAUD_DETECTION_ANALYSIS"
   ]
  },
  {
   "cell_type": "code",
   "execution_count": null,
   "id": "72ab8fca-9a56-4758-847f-7eebeb33edec",
   "metadata": {},
   "outputs": [],
   "source": []
  }
 ],
 "metadata": {
  "kernelspec": {
   "display_name": "Python 3 (ipykernel)",
   "language": "python",
   "name": "python3"
  },
  "language_info": {
   "codemirror_mode": {
    "name": "ipython",
    "version": 3
   },
   "file_extension": ".py",
   "mimetype": "text/x-python",
   "name": "python",
   "nbconvert_exporter": "python",
   "pygments_lexer": "ipython3",
   "version": "3.11.5"
  }
 },
 "nbformat": 4,
 "nbformat_minor": 5
}
